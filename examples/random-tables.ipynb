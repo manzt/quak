{
 "cells": [
  {
   "cell_type": "code",
   "execution_count": null,
   "id": "ae5f4636-1a4b-4c58-81e9-7d11cb6cb3bb",
   "metadata": {},
   "outputs": [],
   "source": [
    "%load_ext autoreload\n",
    "%autoreload 2\n",
    "%load_ext anywidget\n",
    "%env ANYWIDGET_HMR=1"
   ]
  },
  {
   "cell_type": "code",
   "execution_count": null,
   "id": "de780416-a78c-4ec3-8806-fdb252f907bb",
   "metadata": {},
   "outputs": [],
   "source": [
    "import quak\n",
    "from vega_datasets import data\n",
    "\n",
    "quak.Widget(data.cars())"
   ]
  },
  {
   "cell_type": "code",
   "execution_count": null,
   "id": "e9887c09-c132-4b4d-a29f-3a71b2079365",
   "metadata": {},
   "outputs": [],
   "source": [
    "quak.Widget(data.barley())"
   ]
  },
  {
   "cell_type": "code",
   "execution_count": null,
   "id": "a5d2bdc5-b858-453c-92d3-de9921f7bfce",
   "metadata": {},
   "outputs": [],
   "source": [
    "quak.Widget(data.airports())"
   ]
  },
  {
   "cell_type": "code",
   "execution_count": null,
   "id": "5758b272-e2b8-4e6f-86d1-9fc5d0fa554a",
   "metadata": {},
   "outputs": [],
   "source": [
    "quak.Widget(data.budgets())"
   ]
  },
  {
   "cell_type": "code",
   "execution_count": null,
   "id": "0c4268a7-85d0-45a9-a0d1-14b7690ad396",
   "metadata": {},
   "outputs": [],
   "source": [
    "import polars as pl\n",
    "from datetime import date\n",
    "df = pl.DataFrame(\n",
    "    {\n",
    "        \"start\": [date(2024, 1, 1), date(2024, 1, 1), date(2024, 1, 1), None],\n",
    "        \"end\": [date(2024, 5, 1), date(2024, 7, 1), date(2024, 9, 1), None],\n",
    "    }\n",
    ")\n",
    "\n",
    "df = df.with_columns(\n",
    "    start1=pl.col(\"start\").cast(pl.Datetime)\n",
    ")\n",
    "quak.Widget(df)"
   ]
  },
  {
   "cell_type": "code",
   "execution_count": null,
   "id": "194e46e4-76d9-44f0-8e3a-30e7a0fa1261",
   "metadata": {},
   "outputs": [],
   "source": [
    "import pyarrow as pa\n",
    "import polars as pl\n",
    "import datetime\n",
    "\n",
    "# Define the PyArrow schema and data\n",
    "schema = pa.schema([\n",
    "    ('NullType', pa.null()),\n",
    "    ('IntType', pa.int32()),\n",
    "    ('FloatType', pa.float64()),\n",
    "    ('BinaryType', pa.binary()),\n",
    "    ('Utf8Type', pa.utf8()),\n",
    "    ('BoolType', pa.bool_()),\n",
    "    ('DecimalType', pa.decimal128(10, 2)),\n",
    "    ('DateType', pa.date32()),\n",
    "    ('TimeType', pa.time32('s')),\n",
    "    ('TimestampType', pa.timestamp('s')),\n",
    "    ('IntervalType', pa.duration('s')),\n",
    "    ('DurationType', pa.duration('ms')),\n",
    "    ('ListType', pa.list_(pa.int32())),\n",
    "    ('StructType', pa.struct([('field1', pa.int32()), ('field2', pa.utf8())])),\n",
    "])\n",
    "\n",
    "data = [\n",
    "    [None, 1, 1.0, bdata, 'text1', True, None, datetime.date(2024, 1, 1), datetime.time(12, 0, 0),\n",
    "     datetime.datetime(2024, 1, 1, 12, 0, 0), None, 1000, [1, 2, 3], {'field1': 1, 'field2': 'text'}],\n",
    "    [None, 2, 2.5, b'non-ASCII: \\xc3\\xb1', 'text2', False, None, datetime.date(2024, 2, 1), datetime.time(13, 0, 0),\n",
    "     datetime.datetime(2024, 2, 1, 12, 0, 0), None, 2000, [4, 5, 6], {'field1': 2, 'field2': 'text'}],\n",
    "    [None, 3, float('nan'), b'non-ASCII: \\xe2\\x82\\xac', 'text3', True, None, datetime.date(2024, 3, 1), datetime.time(14, 0, 0),\n",
    "     datetime.datetime(2024, 3, 1, 12, 0, 0), None, 3000, [7, 8, 9], {'field1': 3, 'field2': 'text'}],\n",
    "]\n",
    "\n",
    "# Create a PyArrow Table\n",
    "arrays = [\n",
    "    pa.array([row[0] for row in data], type=pa.null()),\n",
    "    pa.array([row[1] for row in data], type=pa.int32()),\n",
    "    pa.array([row[2] for row in data], type=pa.float64()),\n",
    "    pa.array([row[3] for row in data], type=pa.binary()),\n",
    "    pa.array([row[4] for row in data], type=pa.utf8()),\n",
    "    pa.array([row[5] for row in data], type=pa.bool_()),\n",
    "    pa.array([None, None, None], type=pa.decimal128(10, 2)),\n",
    "    pa.array([row[7] for row in data], type=pa.date32()),\n",
    "    pa.array([row[8] for row in data], type=pa.time32('s')),\n",
    "    pa.array([row[9] for row in data], type=pa.timestamp('s')),\n",
    "    pa.array([None, None, None], type=pa.duration('s')),\n",
    "    pa.array([row[11] for row in data], type=pa.duration('ms')),\n",
    "    pa.array([row[12] for row in data], type=pa.list_(pa.int32())),\n",
    "    pa.array([row[13] for row in data], type=pa.struct([('field1', pa.int32()), ('field2', pa.utf8())])),\n",
    "]\n",
    "\n",
    "table = pa.Table.from_arrays(arrays, schema=schema)\n",
    "quak.Widget(table)"
   ]
  },
  {
   "cell_type": "code",
   "execution_count": null,
   "id": "d4d6ffe6-22a0-4dfb-aefa-1618ac4109b3",
   "metadata": {},
   "outputs": [],
   "source": [
    "import vegadata"
   ]
  }
 ],
 "metadata": {
  "kernelspec": {
   "display_name": "Python 3 (ipykernel)",
   "language": "python",
   "name": "python3"
  },
  "language_info": {
   "codemirror_mode": {
    "name": "ipython",
    "version": 3
   },
   "file_extension": ".py",
   "mimetype": "text/x-python",
   "name": "python",
   "nbconvert_exporter": "python",
   "pygments_lexer": "ipython3",
   "version": "3.12.2"
  },
  "widgets": {
   "application/vnd.jupyter.widget-state+json": {
    "state": {},
    "version_major": 2,
    "version_minor": 0
   }
  }
 },
 "nbformat": 4,
 "nbformat_minor": 5
}
