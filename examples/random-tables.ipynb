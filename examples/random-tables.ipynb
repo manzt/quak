{
 "cells": [
  {
   "cell_type": "code",
   "execution_count": null,
   "id": "ae5f4636-1a4b-4c58-81e9-7d11cb6cb3bb",
   "metadata": {},
   "outputs": [],
   "source": [
    "%env ANYWIDGET_HMR=1\n",
    "%load_ext quak"
   ]
  },
  {
   "cell_type": "code",
   "execution_count": null,
   "id": "de780416-a78c-4ec3-8806-fdb252f907bb",
   "metadata": {},
   "outputs": [],
   "source": [
    "from vega_datasets import data\n",
    "\n",
    "data.cars()"
   ]
  },
  {
   "cell_type": "code",
   "execution_count": null,
   "id": "e9887c09-c132-4b4d-a29f-3a71b2079365",
   "metadata": {},
   "outputs": [],
   "source": [
    "data.barley();"
   ]
  },
  {
   "cell_type": "code",
   "execution_count": null,
   "id": "a5d2bdc5-b858-453c-92d3-de9921f7bfce",
   "metadata": {},
   "outputs": [],
   "source": [
    "data.airports();"
   ]
  },
  {
   "cell_type": "code",
   "execution_count": null,
   "id": "5758b272-e2b8-4e6f-86d1-9fc5d0fa554a",
   "metadata": {},
   "outputs": [],
   "source": [
    "data.budgets();"
   ]
  },
  {
   "cell_type": "code",
   "execution_count": null,
   "id": "49cb33bb-e497-4a9c-9aa9-cc59ea86546b",
   "metadata": {},
   "outputs": [],
   "source": []
  }
 ],
 "metadata": {
  "kernelspec": {
   "display_name": "Python 3 (ipykernel)",
   "language": "python",
   "name": "python3"
  },
  "language_info": {
   "codemirror_mode": {
    "name": "ipython",
    "version": 3
   },
   "file_extension": ".py",
   "mimetype": "text/x-python",
   "name": "python",
   "nbconvert_exporter": "python",
   "pygments_lexer": "ipython3",
   "version": "3.12.2"
  },
  "widgets": {
   "application/vnd.jupyter.widget-state+json": {
    "state": {},
    "version_major": 2,
    "version_minor": 0
   }
  }
 },
 "nbformat": 4,
 "nbformat_minor": 5
}
