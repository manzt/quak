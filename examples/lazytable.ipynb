{
 "cells": [
  {
   "cell_type": "code",
   "execution_count": null,
   "id": "2566d024-02b5-44a7-8bb5-99345622d57c",
   "metadata": {},
   "outputs": [],
   "source": [
    "%load_ext autoreload\n",
    "%autoreload 2\n",
    "%load_ext anywidget\n",
    "%env ANYWIDGET_HMR=1"
   ]
  },
  {
   "cell_type": "code",
   "execution_count": null,
   "id": "dc7a23f6-a3b7-40cf-a54a-6ada43f6d0a2",
   "metadata": {},
   "outputs": [],
   "source": [
    "import duckdb\n",
    "import ipytable\n",
    "from vega_datasets import data"
   ]
  },
  {
   "cell_type": "code",
   "execution_count": null,
   "id": "c6912842-1f36-48b6-9560-0b2f79610017",
   "metadata": {},
   "outputs": [],
   "source": [
    "df = data.movies().apply(lambda col: col.astype(\"string[pyarrow]\") if col.dtype == 'object' else col)\n",
    "df.info()"
   ]
  },
  {
   "cell_type": "code",
   "execution_count": null,
   "id": "8f9d28f9-1e10-4f4f-9f5e-9cdaf0872a2e",
   "metadata": {},
   "outputs": [],
   "source": [
    "widget = ipytable.Widget(df)\n",
    "widget"
   ]
  },
  {
   "cell_type": "code",
   "execution_count": null,
   "id": "5b4c089e-69b2-4c12-a364-b86cf6db8c79",
   "metadata": {},
   "outputs": [],
   "source": []
  }
 ],
 "metadata": {
  "kernelspec": {
   "display_name": "Python 3 (ipykernel)",
   "language": "python",
   "name": "python3"
  },
  "language_info": {
   "codemirror_mode": {
    "name": "ipython",
    "version": 3
   },
   "file_extension": ".py",
   "mimetype": "text/x-python",
   "name": "python",
   "nbconvert_exporter": "python",
   "pygments_lexer": "ipython3",
   "version": "3.12.2"
  },
  "widgets": {
   "application/vnd.jupyter.widget-state+json": {
    "state": {},
    "version_major": 2,
    "version_minor": 0
   }
  }
 },
 "nbformat": 4,
 "nbformat_minor": 5
}
