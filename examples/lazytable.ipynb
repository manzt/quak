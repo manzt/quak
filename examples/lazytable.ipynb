{
 "cells": [
  {
   "cell_type": "code",
   "execution_count": null,
   "id": "10a8f348-ac83-43db-8120-b58252e0e959",
   "metadata": {},
   "outputs": [],
   "source": [
    "%load_ext quak"
   ]
  },
  {
   "cell_type": "markdown",
   "id": "2446e1ad-981b-4031-851d-d36ac817d3ae",
   "metadata": {},
   "source": [
    "## pandas"
   ]
  },
  {
   "cell_type": "code",
   "execution_count": null,
   "id": "c6912842-1f36-48b6-9560-0b2f79610017",
   "metadata": {},
   "outputs": [],
   "source": [
    "from vega_datasets import data\n",
    "\n",
    "df = data.movies()\n",
    "for column in df.select_dtypes(include='object').columns:\n",
    "    df[column] = df[column].astype(\"string[pyarrow]\")\n",
    "df"
   ]
  },
  {
   "cell_type": "markdown",
   "id": "934d1e1c-defd-4805-9eb0-69255935d586",
   "metadata": {},
   "source": [
    "## duckdb"
   ]
  },
  {
   "cell_type": "code",
   "execution_count": null,
   "id": "53531fde-fed5-44b3-8232-f946e4bebeff",
   "metadata": {},
   "outputs": [],
   "source": [
    "import duckdb\n",
    "\n",
    "conn = duckdb.connect(\":memory:\")\n",
    "# conn.execute(\"CREATE TABLE movies AS SELECT * from 'movies.parquet'\")\n",
    "conn.execute(\"CREATE VIEW taxis AS SELECT * FROM '../data/yellow_tripdata_2024-01.parquet'\")\n",
    "conn.execute(\"CREATE TABLE penguins AS SELECT * FROM 'https://raw.githubusercontent.com/mwaskom/seaborn-data/master/penguins.csv'\")\n",
    "conn.execute(\"\"\"\n",
    "ALTER TABLE penguins\n",
    "ADD COLUMN is_male BOOLEAN;\n",
    "UPDATE penguins\n",
    "SET is_male = CASE \n",
    "    WHEN sex = 'MALE' THEN TRUE \n",
    "    WHEN sex = 'FEMALE' THEN FALSE \n",
    "    ELSE NULL \n",
    "END;\n",
    "\"\"\")\n",
    "conn.query(\"SELECT * FROM taxis\")"
   ]
  },
  {
   "cell_type": "markdown",
   "id": "45fd4ccd-2e48-4c88-95d7-001b89778647",
   "metadata": {},
   "source": [
    "## polars"
   ]
  },
  {
   "cell_type": "code",
   "execution_count": null,
   "id": "5af9afc6-4972-4095-9f75-c061cc9193cd",
   "metadata": {},
   "outputs": [],
   "source": [
    "!uv pip install --quiet polars"
   ]
  },
  {
   "cell_type": "code",
   "execution_count": null,
   "id": "7712a1b8-ef61-4cf6-a396-a5e5c4851c3d",
   "metadata": {},
   "outputs": [],
   "source": [
    "import polars as pl\n",
    "pl.DataFrame({'a': [1, 2, 3], 'b': [4, 5, 6]})"
   ]
  },
  {
   "cell_type": "markdown",
   "id": "4fa2dd69-7866-447e-88bb-e31761c62a98",
   "metadata": {},
   "source": [
    "## anndata"
   ]
  },
  {
   "cell_type": "code",
   "execution_count": null,
   "id": "1d1b5032-d41b-4acc-a8c0-78aa1c3d4dcb",
   "metadata": {},
   "outputs": [],
   "source": [
    "!uv pip install --quiet anndata pooch"
   ]
  },
  {
   "cell_type": "code",
   "execution_count": null,
   "id": "40e4c5bc-9664-4cf3-8032-f622942ce311",
   "metadata": {},
   "outputs": [],
   "source": [
    "import anndata\n",
    "import pooch\n",
    "\n",
    "# download a dataset\n",
    "datapath = pooch.retrieve(\n",
    "    url=\"https://figshare.com/ndownloader/files/40067737\",\n",
    "    known_hash=\"md5:b80deb0997f96b45d06f19c694e46243\",\n",
    "    path=\"../data\",\n",
    "    fname=\"scverse-getting-started-anndata-pbmc3k_processed.h5ad\",\n",
    ")\n",
    "adata = anndata.read_h5ad(\"../data/scverse-getting-started-anndata-pbmc3k_processed.h5ad\")\n",
    "adata.obs"
   ]
  },
  {
   "cell_type": "code",
   "execution_count": null,
   "id": "f83643aa-bb4e-4128-84b2-82498d8981c2",
   "metadata": {},
   "outputs": [],
   "source": [
    "data.zipcodes();"
   ]
  },
  {
   "cell_type": "code",
   "execution_count": null,
   "id": "44303c8e-f2e0-464b-be83-abf9f497bf70",
   "metadata": {},
   "outputs": [],
   "source": []
  }
 ],
 "metadata": {
  "kernelspec": {
   "display_name": "Python 3 (ipykernel)",
   "language": "python",
   "name": "python3"
  },
  "language_info": {
   "codemirror_mode": {
    "name": "ipython",
    "version": 3
   },
   "file_extension": ".py",
   "mimetype": "text/x-python",
   "name": "python",
   "nbconvert_exporter": "python",
   "pygments_lexer": "ipython3",
   "version": "3.12.2"
  },
  "widgets": {
   "application/vnd.jupyter.widget-state+json": {
    "state": {},
    "version_major": 2,
    "version_minor": 0
   }
  }
 },
 "nbformat": 4,
 "nbformat_minor": 5
}
