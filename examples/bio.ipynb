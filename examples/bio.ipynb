{
 "cells": [
  {
   "cell_type": "code",
   "execution_count": null,
   "id": "5aac6e2d-f0e2-449e-8307-4321ce42ab35",
   "metadata": {},
   "outputs": [],
   "source": [
    "%load_ext quak\n",
    "%env ANYWIDGET_HMR=1"
   ]
  },
  {
   "cell_type": "code",
   "execution_count": null,
   "id": "b034328e-9a15-4a32-bc9b-20daa1bcbe50",
   "metadata": {},
   "outputs": [],
   "source": [
    "import pandas as pd\n",
    "\n",
    "df = pd.read_parquet(\"/Users/manzt/Downloads/unstimulated-pembrolizumab-responder.parquet\")\n",
    "cols = [\"umapX\", \"umapY\", \"faustLabels\"] + [col for col in df.columns if col.endswith('_Windsorized')]\n",
    "df = df[cols]\n",
    "df"
   ]
  },
  {
   "cell_type": "code",
   "execution_count": null,
   "id": "50331e4f-3a25-4d35-a489-e9c26b711e3d",
   "metadata": {},
   "outputs": [],
   "source": [
    "# !wget https://oxbow-ngs.s3.us-east-2.amazonaws.com/example.bam\n",
    "# !wget https://oxbow-ngs.s3.us-east-2.amazonaws.com/example.bam.bai\n",
    "import oxbow as ox\n",
    "\n",
    "ox.read_bam(\"./data/example.bam\")"
   ]
  },
  {
   "cell_type": "code",
   "execution_count": null,
   "id": "28c8aeaa-ec27-48f3-bda7-76fc174d6f13",
   "metadata": {},
   "outputs": [],
   "source": [
    "import duckdb\n",
    "\n",
    "conn = duckdb.connect(\"./data/Dataset1-LSP13626-melanoma-in-situ-256_bricks.db\")\n",
    "conn.query(\"SELECT * from bricks\")"
   ]
  },
  {
   "cell_type": "code",
   "execution_count": null,
   "id": "6f7d41fd-1c7c-4790-818d-bf344c3e2335",
   "metadata": {},
   "outputs": [],
   "source": []
  },
  {
   "cell_type": "code",
   "execution_count": null,
   "id": "c42a0a5b-b9d0-4247-9443-ab90d5f1ec76",
   "metadata": {},
   "outputs": [],
   "source": []
  }
 ],
 "metadata": {
  "kernelspec": {
   "display_name": "Python 3 (ipykernel)",
   "language": "python",
   "name": "python3"
  },
  "language_info": {
   "codemirror_mode": {
    "name": "ipython",
    "version": 3
   },
   "file_extension": ".py",
   "mimetype": "text/x-python",
   "name": "python",
   "nbconvert_exporter": "python",
   "pygments_lexer": "ipython3",
   "version": "3.12.2"
  },
  "widgets": {
   "application/vnd.jupyter.widget-state+json": {
    "state": {},
    "version_major": 2,
    "version_minor": 0
   }
  }
 },
 "nbformat": 4,
 "nbformat_minor": 5
}
